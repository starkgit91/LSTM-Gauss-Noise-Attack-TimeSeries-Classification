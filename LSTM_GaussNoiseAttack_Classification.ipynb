{
  "nbformat": 4,
  "nbformat_minor": 0,
  "metadata": {
    "colab": {
      "provenance": [],
      "mount_file_id": "1i_MAEZvMve8TYTnTeaQZIpiPmdwws1gz",
      "authorship_tag": "ABX9TyPGBjTOkGvos4W2ruL2QQpG",
      "include_colab_link": true
    },
    "kernelspec": {
      "name": "python3",
      "display_name": "Python 3"
    },
    "language_info": {
      "name": "python"
    }
  },
  "cells": [
    {
      "cell_type": "markdown",
      "metadata": {
        "id": "view-in-github",
        "colab_type": "text"
      },
      "source": [
        "<a href=\"https://colab.research.google.com/github/starkgit91/LSTM-Gauss-Noise-Attack-TimeSeries-Classification/blob/main/LSTM_GaussNoiseAttack_Classification.ipynb\" target=\"_parent\"><img src=\"https://colab.research.google.com/assets/colab-badge.svg\" alt=\"Open In Colab\"/></a>"
      ]
    },
    {
      "cell_type": "markdown",
      "source": [
        "## **Gauss Noise Attack Classification with Non Guassian Data Using LSTM Neural Nets Artitecture**"
      ],
      "metadata": {
        "id": "Y9OlRecZkBcn"
      }
    },
    {
      "cell_type": "markdown",
      "source": [
        "For Preprocessing the text into integers\n",
        "\n",
        "label_encoder = LabelEncoder()\n",
        "\n",
        "encoded_labels = label_encoder.fit_transform(y_train.'column')"
      ],
      "metadata": {
        "id": "uQwbj9FLkVay"
      }
    },
    {
      "cell_type": "code",
      "execution_count": 34,
      "metadata": {
        "id": "H3p3ZBC3jU69"
      },
      "outputs": [],
      "source": [
        "import pandas as pd\n",
        "import numpy as np\n",
        "import matplotlib.pyplot as plt"
      ]
    },
    {
      "cell_type": "code",
      "source": [
        "# Load the CSV file\n",
        "dataframe = pd.read_csv(r\"/content/output2.csv\")\n",
        "dataframe"
      ],
      "metadata": {
        "colab": {
          "base_uri": "https://localhost:8080/",
          "height": 684
        },
        "id": "YQPW38fBk_Jt",
        "outputId": "754fb383-fd1e-47a8-8405-9d95d9af999e"
      },
      "execution_count": 35,
      "outputs": [
        {
          "output_type": "execute_result",
          "data": {
            "text/plain": [
              "     void         0         1         2         3         4         5  \\\n",
              "0       0  0.000000  0.000000  0.000000  0.000000  0.000000  0.000000   \n",
              "1       1  1.005513  0.990960  0.951800  0.967765  0.963105  0.944005   \n",
              "2       2  1.000230  0.987148  0.950249  0.971844  0.966423  0.953005   \n",
              "3       3  0.996058  0.982963  0.945989  0.967768  0.962317  0.948935   \n",
              "4       4  0.994787  0.981680  0.944675  0.966495  0.961033  0.947650   \n",
              "..    ...       ...       ...       ...       ...       ...       ...   \n",
              "325   325  0.993940  0.980773  0.943665  0.965567  0.960098  0.946556   \n",
              "326   326  0.992549  0.979369  0.942226  0.964174  0.958693  0.945150   \n",
              "327   327  0.992130  0.978946  0.941793  0.963754  0.958270  0.944725   \n",
              "328   328  0.992005  0.978820  0.941663  0.963628  0.958143  0.944598   \n",
              "329   329  0.991968  0.978782  0.941625  0.963591  0.958105  0.944560   \n",
              "\n",
              "            6         7         8  ...       4.1       5.1       6.1  \\\n",
              "0    0.000000  0.000000  0.000000  ...  0.233217 -0.408697 -0.155070   \n",
              "1    0.981871  0.983927  0.969115  ...  0.708859  0.938795  0.747657   \n",
              "2    0.990865  0.996208  0.980292  ...  0.163681  0.740390  1.049729   \n",
              "3    0.986739  0.992045  0.976149  ...  0.845809  0.929111  1.936730   \n",
              "4    0.985494  0.990830  0.974903  ...  0.450209  0.167710  1.780980   \n",
              "..        ...       ...       ...  ...       ...       ...       ...   \n",
              "325  0.984521  0.989705  0.974133  ...  1.185769  0.950363  0.770907   \n",
              "326  0.983159  0.988375  0.972770  ...  1.889802  0.619764  0.759825   \n",
              "327  0.982747  0.987972  0.972358  ...  0.232444  0.945310  1.281046   \n",
              "328  0.982624  0.987851  0.972234  ...  1.188143  1.204321  0.644539   \n",
              "329  0.982587  0.987815  0.972198  ...  0.844693  0.838207  0.704328   \n",
              "\n",
              "          7.1       8.1       9.1      10.1      11.1      12.1      13.1  \n",
              "0   -0.499201 -0.586880 -0.986981 -0.114246 -0.413460 -0.325593 -0.142156  \n",
              "1    0.890859  1.759761  0.018264  0.952264  0.771651  0.406389  0.623906  \n",
              "2    0.752877  0.810294  0.724298  1.391443  1.410302  0.539920  0.659718  \n",
              "3    0.453229  1.765148  0.223355  1.060582  1.502614  0.664277  0.747283  \n",
              "4    0.649430  1.387199  1.182484  0.800746 -0.164985  1.077716  0.537166  \n",
              "..        ...       ...       ...       ...       ...       ...       ...  \n",
              "325  0.733754  1.752746  1.065565  0.384421  0.683629  1.630629  1.346814  \n",
              "326  1.388266  0.166427  1.021303  0.469104  1.492058  0.325095  1.498333  \n",
              "327  1.594134  1.333842  0.623872  1.711785  0.931745  0.698255  0.749288  \n",
              "328 -0.309619  1.420941  0.546296  0.946522  1.437796  1.120831  1.079769  \n",
              "329  0.367735  0.307843  0.618875  1.198092  0.620272  0.565765  1.380292  \n",
              "\n",
              "[330 rows x 29 columns]"
            ],
            "text/html": [
              "\n",
              "  <div id=\"df-b771a283-2c58-45d0-bff4-50a00d06dca8\">\n",
              "    <div class=\"colab-df-container\">\n",
              "      <div>\n",
              "<style scoped>\n",
              "    .dataframe tbody tr th:only-of-type {\n",
              "        vertical-align: middle;\n",
              "    }\n",
              "\n",
              "    .dataframe tbody tr th {\n",
              "        vertical-align: top;\n",
              "    }\n",
              "\n",
              "    .dataframe thead th {\n",
              "        text-align: right;\n",
              "    }\n",
              "</style>\n",
              "<table border=\"1\" class=\"dataframe\">\n",
              "  <thead>\n",
              "    <tr style=\"text-align: right;\">\n",
              "      <th></th>\n",
              "      <th>void</th>\n",
              "      <th>0</th>\n",
              "      <th>1</th>\n",
              "      <th>2</th>\n",
              "      <th>3</th>\n",
              "      <th>4</th>\n",
              "      <th>5</th>\n",
              "      <th>6</th>\n",
              "      <th>7</th>\n",
              "      <th>8</th>\n",
              "      <th>...</th>\n",
              "      <th>4.1</th>\n",
              "      <th>5.1</th>\n",
              "      <th>6.1</th>\n",
              "      <th>7.1</th>\n",
              "      <th>8.1</th>\n",
              "      <th>9.1</th>\n",
              "      <th>10.1</th>\n",
              "      <th>11.1</th>\n",
              "      <th>12.1</th>\n",
              "      <th>13.1</th>\n",
              "    </tr>\n",
              "  </thead>\n",
              "  <tbody>\n",
              "    <tr>\n",
              "      <th>0</th>\n",
              "      <td>0</td>\n",
              "      <td>0.000000</td>\n",
              "      <td>0.000000</td>\n",
              "      <td>0.000000</td>\n",
              "      <td>0.000000</td>\n",
              "      <td>0.000000</td>\n",
              "      <td>0.000000</td>\n",
              "      <td>0.000000</td>\n",
              "      <td>0.000000</td>\n",
              "      <td>0.000000</td>\n",
              "      <td>...</td>\n",
              "      <td>0.233217</td>\n",
              "      <td>-0.408697</td>\n",
              "      <td>-0.155070</td>\n",
              "      <td>-0.499201</td>\n",
              "      <td>-0.586880</td>\n",
              "      <td>-0.986981</td>\n",
              "      <td>-0.114246</td>\n",
              "      <td>-0.413460</td>\n",
              "      <td>-0.325593</td>\n",
              "      <td>-0.142156</td>\n",
              "    </tr>\n",
              "    <tr>\n",
              "      <th>1</th>\n",
              "      <td>1</td>\n",
              "      <td>1.005513</td>\n",
              "      <td>0.990960</td>\n",
              "      <td>0.951800</td>\n",
              "      <td>0.967765</td>\n",
              "      <td>0.963105</td>\n",
              "      <td>0.944005</td>\n",
              "      <td>0.981871</td>\n",
              "      <td>0.983927</td>\n",
              "      <td>0.969115</td>\n",
              "      <td>...</td>\n",
              "      <td>0.708859</td>\n",
              "      <td>0.938795</td>\n",
              "      <td>0.747657</td>\n",
              "      <td>0.890859</td>\n",
              "      <td>1.759761</td>\n",
              "      <td>0.018264</td>\n",
              "      <td>0.952264</td>\n",
              "      <td>0.771651</td>\n",
              "      <td>0.406389</td>\n",
              "      <td>0.623906</td>\n",
              "    </tr>\n",
              "    <tr>\n",
              "      <th>2</th>\n",
              "      <td>2</td>\n",
              "      <td>1.000230</td>\n",
              "      <td>0.987148</td>\n",
              "      <td>0.950249</td>\n",
              "      <td>0.971844</td>\n",
              "      <td>0.966423</td>\n",
              "      <td>0.953005</td>\n",
              "      <td>0.990865</td>\n",
              "      <td>0.996208</td>\n",
              "      <td>0.980292</td>\n",
              "      <td>...</td>\n",
              "      <td>0.163681</td>\n",
              "      <td>0.740390</td>\n",
              "      <td>1.049729</td>\n",
              "      <td>0.752877</td>\n",
              "      <td>0.810294</td>\n",
              "      <td>0.724298</td>\n",
              "      <td>1.391443</td>\n",
              "      <td>1.410302</td>\n",
              "      <td>0.539920</td>\n",
              "      <td>0.659718</td>\n",
              "    </tr>\n",
              "    <tr>\n",
              "      <th>3</th>\n",
              "      <td>3</td>\n",
              "      <td>0.996058</td>\n",
              "      <td>0.982963</td>\n",
              "      <td>0.945989</td>\n",
              "      <td>0.967768</td>\n",
              "      <td>0.962317</td>\n",
              "      <td>0.948935</td>\n",
              "      <td>0.986739</td>\n",
              "      <td>0.992045</td>\n",
              "      <td>0.976149</td>\n",
              "      <td>...</td>\n",
              "      <td>0.845809</td>\n",
              "      <td>0.929111</td>\n",
              "      <td>1.936730</td>\n",
              "      <td>0.453229</td>\n",
              "      <td>1.765148</td>\n",
              "      <td>0.223355</td>\n",
              "      <td>1.060582</td>\n",
              "      <td>1.502614</td>\n",
              "      <td>0.664277</td>\n",
              "      <td>0.747283</td>\n",
              "    </tr>\n",
              "    <tr>\n",
              "      <th>4</th>\n",
              "      <td>4</td>\n",
              "      <td>0.994787</td>\n",
              "      <td>0.981680</td>\n",
              "      <td>0.944675</td>\n",
              "      <td>0.966495</td>\n",
              "      <td>0.961033</td>\n",
              "      <td>0.947650</td>\n",
              "      <td>0.985494</td>\n",
              "      <td>0.990830</td>\n",
              "      <td>0.974903</td>\n",
              "      <td>...</td>\n",
              "      <td>0.450209</td>\n",
              "      <td>0.167710</td>\n",
              "      <td>1.780980</td>\n",
              "      <td>0.649430</td>\n",
              "      <td>1.387199</td>\n",
              "      <td>1.182484</td>\n",
              "      <td>0.800746</td>\n",
              "      <td>-0.164985</td>\n",
              "      <td>1.077716</td>\n",
              "      <td>0.537166</td>\n",
              "    </tr>\n",
              "    <tr>\n",
              "      <th>...</th>\n",
              "      <td>...</td>\n",
              "      <td>...</td>\n",
              "      <td>...</td>\n",
              "      <td>...</td>\n",
              "      <td>...</td>\n",
              "      <td>...</td>\n",
              "      <td>...</td>\n",
              "      <td>...</td>\n",
              "      <td>...</td>\n",
              "      <td>...</td>\n",
              "      <td>...</td>\n",
              "      <td>...</td>\n",
              "      <td>...</td>\n",
              "      <td>...</td>\n",
              "      <td>...</td>\n",
              "      <td>...</td>\n",
              "      <td>...</td>\n",
              "      <td>...</td>\n",
              "      <td>...</td>\n",
              "      <td>...</td>\n",
              "      <td>...</td>\n",
              "    </tr>\n",
              "    <tr>\n",
              "      <th>325</th>\n",
              "      <td>325</td>\n",
              "      <td>0.993940</td>\n",
              "      <td>0.980773</td>\n",
              "      <td>0.943665</td>\n",
              "      <td>0.965567</td>\n",
              "      <td>0.960098</td>\n",
              "      <td>0.946556</td>\n",
              "      <td>0.984521</td>\n",
              "      <td>0.989705</td>\n",
              "      <td>0.974133</td>\n",
              "      <td>...</td>\n",
              "      <td>1.185769</td>\n",
              "      <td>0.950363</td>\n",
              "      <td>0.770907</td>\n",
              "      <td>0.733754</td>\n",
              "      <td>1.752746</td>\n",
              "      <td>1.065565</td>\n",
              "      <td>0.384421</td>\n",
              "      <td>0.683629</td>\n",
              "      <td>1.630629</td>\n",
              "      <td>1.346814</td>\n",
              "    </tr>\n",
              "    <tr>\n",
              "      <th>326</th>\n",
              "      <td>326</td>\n",
              "      <td>0.992549</td>\n",
              "      <td>0.979369</td>\n",
              "      <td>0.942226</td>\n",
              "      <td>0.964174</td>\n",
              "      <td>0.958693</td>\n",
              "      <td>0.945150</td>\n",
              "      <td>0.983159</td>\n",
              "      <td>0.988375</td>\n",
              "      <td>0.972770</td>\n",
              "      <td>...</td>\n",
              "      <td>1.889802</td>\n",
              "      <td>0.619764</td>\n",
              "      <td>0.759825</td>\n",
              "      <td>1.388266</td>\n",
              "      <td>0.166427</td>\n",
              "      <td>1.021303</td>\n",
              "      <td>0.469104</td>\n",
              "      <td>1.492058</td>\n",
              "      <td>0.325095</td>\n",
              "      <td>1.498333</td>\n",
              "    </tr>\n",
              "    <tr>\n",
              "      <th>327</th>\n",
              "      <td>327</td>\n",
              "      <td>0.992130</td>\n",
              "      <td>0.978946</td>\n",
              "      <td>0.941793</td>\n",
              "      <td>0.963754</td>\n",
              "      <td>0.958270</td>\n",
              "      <td>0.944725</td>\n",
              "      <td>0.982747</td>\n",
              "      <td>0.987972</td>\n",
              "      <td>0.972358</td>\n",
              "      <td>...</td>\n",
              "      <td>0.232444</td>\n",
              "      <td>0.945310</td>\n",
              "      <td>1.281046</td>\n",
              "      <td>1.594134</td>\n",
              "      <td>1.333842</td>\n",
              "      <td>0.623872</td>\n",
              "      <td>1.711785</td>\n",
              "      <td>0.931745</td>\n",
              "      <td>0.698255</td>\n",
              "      <td>0.749288</td>\n",
              "    </tr>\n",
              "    <tr>\n",
              "      <th>328</th>\n",
              "      <td>328</td>\n",
              "      <td>0.992005</td>\n",
              "      <td>0.978820</td>\n",
              "      <td>0.941663</td>\n",
              "      <td>0.963628</td>\n",
              "      <td>0.958143</td>\n",
              "      <td>0.944598</td>\n",
              "      <td>0.982624</td>\n",
              "      <td>0.987851</td>\n",
              "      <td>0.972234</td>\n",
              "      <td>...</td>\n",
              "      <td>1.188143</td>\n",
              "      <td>1.204321</td>\n",
              "      <td>0.644539</td>\n",
              "      <td>-0.309619</td>\n",
              "      <td>1.420941</td>\n",
              "      <td>0.546296</td>\n",
              "      <td>0.946522</td>\n",
              "      <td>1.437796</td>\n",
              "      <td>1.120831</td>\n",
              "      <td>1.079769</td>\n",
              "    </tr>\n",
              "    <tr>\n",
              "      <th>329</th>\n",
              "      <td>329</td>\n",
              "      <td>0.991968</td>\n",
              "      <td>0.978782</td>\n",
              "      <td>0.941625</td>\n",
              "      <td>0.963591</td>\n",
              "      <td>0.958105</td>\n",
              "      <td>0.944560</td>\n",
              "      <td>0.982587</td>\n",
              "      <td>0.987815</td>\n",
              "      <td>0.972198</td>\n",
              "      <td>...</td>\n",
              "      <td>0.844693</td>\n",
              "      <td>0.838207</td>\n",
              "      <td>0.704328</td>\n",
              "      <td>0.367735</td>\n",
              "      <td>0.307843</td>\n",
              "      <td>0.618875</td>\n",
              "      <td>1.198092</td>\n",
              "      <td>0.620272</td>\n",
              "      <td>0.565765</td>\n",
              "      <td>1.380292</td>\n",
              "    </tr>\n",
              "  </tbody>\n",
              "</table>\n",
              "<p>330 rows × 29 columns</p>\n",
              "</div>\n",
              "      <button class=\"colab-df-convert\" onclick=\"convertToInteractive('df-b771a283-2c58-45d0-bff4-50a00d06dca8')\"\n",
              "              title=\"Convert this dataframe to an interactive table.\"\n",
              "              style=\"display:none;\">\n",
              "        \n",
              "  <svg xmlns=\"http://www.w3.org/2000/svg\" height=\"24px\"viewBox=\"0 0 24 24\"\n",
              "       width=\"24px\">\n",
              "    <path d=\"M0 0h24v24H0V0z\" fill=\"none\"/>\n",
              "    <path d=\"M18.56 5.44l.94 2.06.94-2.06 2.06-.94-2.06-.94-.94-2.06-.94 2.06-2.06.94zm-11 1L8.5 8.5l.94-2.06 2.06-.94-2.06-.94L8.5 2.5l-.94 2.06-2.06.94zm10 10l.94 2.06.94-2.06 2.06-.94-2.06-.94-.94-2.06-.94 2.06-2.06.94z\"/><path d=\"M17.41 7.96l-1.37-1.37c-.4-.4-.92-.59-1.43-.59-.52 0-1.04.2-1.43.59L10.3 9.45l-7.72 7.72c-.78.78-.78 2.05 0 2.83L4 21.41c.39.39.9.59 1.41.59.51 0 1.02-.2 1.41-.59l7.78-7.78 2.81-2.81c.8-.78.8-2.07 0-2.86zM5.41 20L4 18.59l7.72-7.72 1.47 1.35L5.41 20z\"/>\n",
              "  </svg>\n",
              "      </button>\n",
              "      \n",
              "  <style>\n",
              "    .colab-df-container {\n",
              "      display:flex;\n",
              "      flex-wrap:wrap;\n",
              "      gap: 12px;\n",
              "    }\n",
              "\n",
              "    .colab-df-convert {\n",
              "      background-color: #E8F0FE;\n",
              "      border: none;\n",
              "      border-radius: 50%;\n",
              "      cursor: pointer;\n",
              "      display: none;\n",
              "      fill: #1967D2;\n",
              "      height: 32px;\n",
              "      padding: 0 0 0 0;\n",
              "      width: 32px;\n",
              "    }\n",
              "\n",
              "    .colab-df-convert:hover {\n",
              "      background-color: #E2EBFA;\n",
              "      box-shadow: 0px 1px 2px rgba(60, 64, 67, 0.3), 0px 1px 3px 1px rgba(60, 64, 67, 0.15);\n",
              "      fill: #174EA6;\n",
              "    }\n",
              "\n",
              "    [theme=dark] .colab-df-convert {\n",
              "      background-color: #3B4455;\n",
              "      fill: #D2E3FC;\n",
              "    }\n",
              "\n",
              "    [theme=dark] .colab-df-convert:hover {\n",
              "      background-color: #434B5C;\n",
              "      box-shadow: 0px 1px 3px 1px rgba(0, 0, 0, 0.15);\n",
              "      filter: drop-shadow(0px 1px 2px rgba(0, 0, 0, 0.3));\n",
              "      fill: #FFFFFF;\n",
              "    }\n",
              "  </style>\n",
              "\n",
              "      <script>\n",
              "        const buttonEl =\n",
              "          document.querySelector('#df-b771a283-2c58-45d0-bff4-50a00d06dca8 button.colab-df-convert');\n",
              "        buttonEl.style.display =\n",
              "          google.colab.kernel.accessAllowed ? 'block' : 'none';\n",
              "\n",
              "        async function convertToInteractive(key) {\n",
              "          const element = document.querySelector('#df-b771a283-2c58-45d0-bff4-50a00d06dca8');\n",
              "          const dataTable =\n",
              "            await google.colab.kernel.invokeFunction('convertToInteractive',\n",
              "                                                     [key], {});\n",
              "          if (!dataTable) return;\n",
              "\n",
              "          const docLinkHtml = 'Like what you see? Visit the ' +\n",
              "            '<a target=\"_blank\" href=https://colab.research.google.com/notebooks/data_table.ipynb>data table notebook</a>'\n",
              "            + ' to learn more about interactive tables.';\n",
              "          element.innerHTML = '';\n",
              "          dataTable['output_type'] = 'display_data';\n",
              "          await google.colab.output.renderOutput(dataTable, element);\n",
              "          const docLink = document.createElement('div');\n",
              "          docLink.innerHTML = docLinkHtml;\n",
              "          element.appendChild(docLink);\n",
              "        }\n",
              "      </script>\n",
              "    </div>\n",
              "  </div>\n",
              "  "
            ]
          },
          "metadata": {},
          "execution_count": 35
        },
        {
          "output_type": "stream",
          "name": "stdout",
          "text": [
            "Warning: Total number of columns (29) exceeds max_columns (20) limiting to first (20) columns.\n"
          ]
        }
      ]
    },
    {
      "cell_type": "markdown",
      "source": [
        "### Separate the non-Gaussian and Gaussian data"
      ],
      "metadata": {
        "id": "bmmG-Th8n7Q4"
      }
    },
    {
      "cell_type": "code",
      "source": [
        "# Separate the non-Gaussian and Gaussian data\n",
        "non_gauss_noise_data = dataframe.iloc[:, :14].values\n",
        "\n",
        "print(f'Without Attack Data\\n: {non_gauss_noise_data}')\n",
        "print(non_gauss_noise_data.shape)\n",
        "\n",
        "gauss_noise_data = dataframe.iloc[:, 14:28].values\n",
        "\n",
        "print(f'Gauss Noise Attack Data\\n: {gauss_noise_data}')\n",
        "print(gauss_noise_data.shape)\n"
      ],
      "metadata": {
        "colab": {
          "base_uri": "https://localhost:8080/"
        },
        "id": "NJ2faX09lTNH",
        "outputId": "b982bb22-4dfd-4130-a3b6-638a39afe7bc"
      },
      "execution_count": 36,
      "outputs": [
        {
          "output_type": "stream",
          "name": "stdout",
          "text": [
            "Without Attack Data\n",
            ": [[  0.           0.           0.         ...   0.           0.\n",
            "    0.        ]\n",
            " [  1.           1.00551258   0.99096025 ...   0.93825998   0.9504674\n",
            "    0.91752818]\n",
            " [  2.           1.00022977   0.98714826 ...   0.94711235   0.95934293\n",
            "    0.92514917]\n",
            " ...\n",
            " [327.           0.99213038   0.97894638 ...   0.93880087   0.95070796\n",
            "    0.91660282]\n",
            " [328.           0.99200498   0.9788198  ...   0.9386728    0.95058128\n",
            "    0.9164717 ]\n",
            " [329.           0.9919676    0.97878207 ...   0.93863463   0.95054352\n",
            "    0.91643261]]\n",
            "(330, 14)\n",
            "Gauss Noise Attack Data\n",
            ": [[ 0.          0.49566351 -0.15437588 ... -0.11424558 -0.41346049\n",
            "  -0.32559342]\n",
            " [ 0.92808769  0.62701415  1.11192041 ...  0.95226351  0.77165058\n",
            "   0.40638857]\n",
            " [ 0.93624637  0.26883719  1.18525754 ...  1.39144323  1.4103022\n",
            "   0.53992047]\n",
            " ...\n",
            " [ 0.92787148  0.49026046  1.10960982 ...  1.71178461  0.93174451\n",
            "   0.69825493]\n",
            " [ 0.92774184  1.83783625  0.60420521 ...  0.94652171  1.43779579\n",
            "   1.12083081]\n",
            " [ 0.9277032   0.73652449  1.64106077 ...  1.19809193  0.62027202\n",
            "   0.56576481]]\n",
            "(330, 14)\n"
          ]
        }
      ]
    },
    {
      "cell_type": "markdown",
      "source": [
        "### Feature Data and Target Data Concatenation"
      ],
      "metadata": {
        "id": "wl2G1Zr5oE1w"
      }
    },
    {
      "cell_type": "code",
      "source": [
        "# label the data for binary classification of lstm\n",
        "\n",
        "non_gauss_labels = np.zeros((non_gauss_noise_data.shape[0])//2)\n",
        "gauss_labels = np.ones((gauss_noise_data.shape[0])//2)"
      ],
      "metadata": {
        "id": "RgGaBuBOmHvN"
      },
      "execution_count": 37,
      "outputs": []
    },
    {
      "cell_type": "code",
      "source": [
        "# Combine the data and labels\n",
        "# features and targets\n",
        "\n",
        "features = np.concatenate((non_gauss_noise_data, gauss_noise_data), axis=1)\n",
        "target = np.concatenate((non_gauss_labels, gauss_labels), axis=0)\n",
        "\n",
        "print(f'feature data: {features}')\n",
        "features.shape"
      ],
      "metadata": {
        "colab": {
          "base_uri": "https://localhost:8080/"
        },
        "id": "-AaPLfOgmuto",
        "outputId": "8fe02edc-b35a-454e-f942-6cc02b76a12b"
      },
      "execution_count": 38,
      "outputs": [
        {
          "output_type": "stream",
          "name": "stdout",
          "text": [
            "feature data: [[ 0.00000000e+00  0.00000000e+00  0.00000000e+00 ... -1.14245582e-01\n",
            "  -4.13460488e-01 -3.25593420e-01]\n",
            " [ 1.00000000e+00  1.00551258e+00  9.90960245e-01 ...  9.52263513e-01\n",
            "   7.71650577e-01  4.06388571e-01]\n",
            " [ 2.00000000e+00  1.00022977e+00  9.87148260e-01 ...  1.39144323e+00\n",
            "   1.41030220e+00  5.39920472e-01]\n",
            " ...\n",
            " [ 3.27000000e+02  9.92130384e-01  9.78946378e-01 ...  1.71178461e+00\n",
            "   9.31744512e-01  6.98254925e-01]\n",
            " [ 3.28000000e+02  9.92004980e-01  9.78819799e-01 ...  9.46521715e-01\n",
            "   1.43779579e+00  1.12083081e+00]\n",
            " [ 3.29000000e+02  9.91967601e-01  9.78782069e-01 ...  1.19809193e+00\n",
            "   6.20272025e-01  5.65764811e-01]]\n"
          ]
        },
        {
          "output_type": "execute_result",
          "data": {
            "text/plain": [
              "(330, 28)"
            ]
          },
          "metadata": {},
          "execution_count": 38
        }
      ]
    },
    {
      "cell_type": "code",
      "source": [
        "print(f'target data: {target}')\n",
        "target.shape\n"
      ],
      "metadata": {
        "colab": {
          "base_uri": "https://localhost:8080/"
        },
        "id": "fYQLQt9Zm7KX",
        "outputId": "0a6eb82a-d276-49f5-f2a3-3e06be2af19d"
      },
      "execution_count": 39,
      "outputs": [
        {
          "output_type": "stream",
          "name": "stdout",
          "text": [
            "target data: [0. 0. 0. 0. 0. 0. 0. 0. 0. 0. 0. 0. 0. 0. 0. 0. 0. 0. 0. 0. 0. 0. 0. 0.\n",
            " 0. 0. 0. 0. 0. 0. 0. 0. 0. 0. 0. 0. 0. 0. 0. 0. 0. 0. 0. 0. 0. 0. 0. 0.\n",
            " 0. 0. 0. 0. 0. 0. 0. 0. 0. 0. 0. 0. 0. 0. 0. 0. 0. 0. 0. 0. 0. 0. 0. 0.\n",
            " 0. 0. 0. 0. 0. 0. 0. 0. 0. 0. 0. 0. 0. 0. 0. 0. 0. 0. 0. 0. 0. 0. 0. 0.\n",
            " 0. 0. 0. 0. 0. 0. 0. 0. 0. 0. 0. 0. 0. 0. 0. 0. 0. 0. 0. 0. 0. 0. 0. 0.\n",
            " 0. 0. 0. 0. 0. 0. 0. 0. 0. 0. 0. 0. 0. 0. 0. 0. 0. 0. 0. 0. 0. 0. 0. 0.\n",
            " 0. 0. 0. 0. 0. 0. 0. 0. 0. 0. 0. 0. 0. 0. 0. 0. 0. 0. 0. 0. 0. 1. 1. 1.\n",
            " 1. 1. 1. 1. 1. 1. 1. 1. 1. 1. 1. 1. 1. 1. 1. 1. 1. 1. 1. 1. 1. 1. 1. 1.\n",
            " 1. 1. 1. 1. 1. 1. 1. 1. 1. 1. 1. 1. 1. 1. 1. 1. 1. 1. 1. 1. 1. 1. 1. 1.\n",
            " 1. 1. 1. 1. 1. 1. 1. 1. 1. 1. 1. 1. 1. 1. 1. 1. 1. 1. 1. 1. 1. 1. 1. 1.\n",
            " 1. 1. 1. 1. 1. 1. 1. 1. 1. 1. 1. 1. 1. 1. 1. 1. 1. 1. 1. 1. 1. 1. 1. 1.\n",
            " 1. 1. 1. 1. 1. 1. 1. 1. 1. 1. 1. 1. 1. 1. 1. 1. 1. 1. 1. 1. 1. 1. 1. 1.\n",
            " 1. 1. 1. 1. 1. 1. 1. 1. 1. 1. 1. 1. 1. 1. 1. 1. 1. 1. 1. 1. 1. 1. 1. 1.\n",
            " 1. 1. 1. 1. 1. 1. 1. 1. 1. 1. 1. 1. 1. 1. 1. 1. 1. 1.]\n"
          ]
        },
        {
          "output_type": "execute_result",
          "data": {
            "text/plain": [
              "(330,)"
            ]
          },
          "metadata": {},
          "execution_count": 39
        }
      ]
    },
    {
      "cell_type": "markdown",
      "source": [
        "### Data Train Test Splitting"
      ],
      "metadata": {
        "id": "KcUnrxW8nuFu"
      }
    },
    {
      "cell_type": "code",
      "source": [
        "from sklearn.model_selection import train_test_split\n",
        "X = features\n",
        "y = target\n",
        "\n",
        "# train and test data splitting\n",
        "\n",
        "X_train, X_test, y_train, y_test = train_test_split(X, y, test_size=0.2, random_state=42)\n",
        "\n",
        "print(f'Train data\\n :{X_train},Test Data\\n: {X_test},Train data\\n : {y_train},Test Data\\n: {y_test}')\n",
        "(X_train.shape, X_test.shape, y_train.shape, y_test.shape)\n"
      ],
      "metadata": {
        "colab": {
          "base_uri": "https://localhost:8080/"
        },
        "id": "ySrAr3zjnPUK",
        "outputId": "cce87148-0595-4bb4-c4cb-163bd70ad46f"
      },
      "execution_count": 62,
      "outputs": [
        {
          "output_type": "stream",
          "name": "stdout",
          "text": [
            "Train data\n",
            " :[[ 7.50000000e+01  9.94353859e-01  9.81204973e-01 ... -5.10130219e-02\n",
            "   7.30576323e-01  8.53024450e-01]\n",
            " [ 1.84000000e+02  9.96369199e-01  9.83172991e-01 ...  8.99236814e-01\n",
            "   2.06157571e-01  4.85543136e-01]\n",
            " [ 1.70000000e+01  9.91269877e-01  9.78044277e-01 ...  4.00407662e-01\n",
            "   1.47735447e+00  5.11000761e-01]\n",
            " ...\n",
            " [ 1.06000000e+02  1.00547076e+00  9.90892811e-01 ...  1.20649484e+00\n",
            "   4.68204730e-01  1.42084766e+00]\n",
            " [ 2.70000000e+02  9.91470235e-01  9.78292521e-01 ...  1.23713915e+00\n",
            "   1.65896263e-01  1.44271165e+00]\n",
            " [ 1.02000000e+02  9.90005388e-01  9.76794429e-01 ...  9.26549331e-01\n",
            "   3.84099713e-01  1.40328634e+00]],Test Data\n",
            ": [[  9.           0.9971379    0.98389556 ...   0.46868716   0.48831444\n",
            "    0.55450214]\n",
            " [164.           0.99519371   0.98204368 ...   1.26106794   0.87015168\n",
            "    1.34890134]\n",
            " [139.           0.99158359   0.97842232 ...   0.94821326   1.21657078\n",
            "    0.76845899]\n",
            " ...\n",
            " [250.           0.98968722   0.97649126 ...   1.01080965   1.89191152\n",
            "    0.29267755]\n",
            " [ 60.           0.99147123   0.97830025 ...   0.97954827   1.45644189\n",
            "    1.49731092]\n",
            " [275.           0.99636778   0.98318253 ...   0.98082075   1.44071626\n",
            "    1.43076796]],Train data\n",
            " : [0. 1. 0. 0. 1. 0. 1. 0. 0. 1. 0. 0. 1. 0. 1. 0. 1. 0. 1. 1. 0. 1. 0. 0.\n",
            " 0. 0. 0. 0. 1. 0. 0. 0. 1. 1. 0. 1. 0. 1. 1. 0. 1. 0. 1. 0. 0. 1. 1. 1.\n",
            " 0. 0. 1. 0. 1. 1. 0. 1. 0. 0. 0. 0. 1. 0. 0. 0. 1. 0. 0. 0. 1. 0. 1. 1.\n",
            " 0. 1. 0. 1. 1. 1. 0. 1. 0. 1. 0. 1. 0. 0. 1. 1. 1. 0. 1. 0. 1. 1. 1. 1.\n",
            " 1. 0. 1. 0. 0. 1. 1. 0. 1. 1. 0. 0. 0. 0. 1. 0. 1. 1. 0. 1. 0. 1. 0. 1.\n",
            " 0. 1. 1. 0. 0. 0. 0. 1. 0. 1. 0. 1. 0. 0. 1. 1. 0. 0. 0. 1. 0. 0. 1. 0.\n",
            " 1. 0. 1. 1. 1. 0. 1. 1. 1. 1. 0. 1. 0. 0. 1. 0. 0. 0. 1. 1. 0. 1. 1. 1.\n",
            " 0. 1. 1. 1. 0. 0. 0. 1. 0. 1. 1. 1. 0. 0. 1. 0. 1. 0. 1. 0. 0. 1. 0. 0.\n",
            " 0. 0. 1. 1. 1. 1. 1. 1. 1. 1. 1. 1. 1. 1. 1. 0. 0. 1. 1. 1. 0. 0. 0. 0.\n",
            " 0. 1. 0. 1. 0. 0. 1. 1. 0. 0. 1. 1. 1. 0. 1. 1. 0. 0. 1. 1. 1. 1. 1. 0.\n",
            " 0. 1. 1. 0. 0. 1. 1. 1. 1. 1. 0. 0. 0. 0. 0. 1. 0. 1. 0. 1. 0. 0. 1. 0.],Test Data\n",
            ": [0. 0. 0. 0. 0. 0. 0. 1. 1. 1. 1. 1. 0. 0. 1. 0. 0. 1. 0. 1. 0. 0. 0. 1.\n",
            " 0. 0. 1. 1. 1. 1. 1. 1. 1. 1. 1. 1. 1. 0. 0. 0. 1. 1. 1. 0. 1. 0. 1. 1.\n",
            " 0. 0. 0. 0. 0. 0. 0. 0. 0. 1. 1. 0. 0. 1. 1. 1. 0. 1.]\n"
          ]
        },
        {
          "output_type": "execute_result",
          "data": {
            "text/plain": [
              "((264, 28), (66, 28), (264,), (66,))"
            ]
          },
          "metadata": {},
          "execution_count": 62
        }
      ]
    },
    {
      "cell_type": "markdown",
      "source": [
        "### DATA PREPROCESSING"
      ],
      "metadata": {
        "id": "M4vDQ-fLoW_2"
      }
    },
    {
      "cell_type": "code",
      "source": [
        "# Ḍata Preprocessing\n",
        "from sklearn.preprocessing import MinMaxScaler\n",
        "\n",
        "scaler = MinMaxScaler()\n",
        "X_train = scaler.fit_transform(X_train)\n",
        "X_test = scaler.transform(X_test)\n",
        "\n",
        "# dimention match to avoid dimention cardinality\n",
        "# Reshape the input data to fit LSTM format (samples, timesteps, features)\n",
        "X_train = np.reshape(X_train, (X_train.shape[0], 1, X_train.shape[1]))\n",
        "X_test = np.reshape(X_test, (X_test.shape[0], 1, X_test.shape[1]))\n",
        "print((X_train.shape[0], X_train.shape[1]))\n",
        "print((X_test.shape[0], X_test.shape[1]))"
      ],
      "metadata": {
        "colab": {
          "base_uri": "https://localhost:8080/"
        },
        "id": "tBFpDfEuodHn",
        "outputId": "b2911557-c827-4b95-ee65-fafafacc05f5"
      },
      "execution_count": 63,
      "outputs": [
        {
          "output_type": "stream",
          "name": "stdout",
          "text": [
            "(264, 1)\n",
            "(66, 1)\n"
          ]
        }
      ]
    },
    {
      "cell_type": "markdown",
      "source": [
        "### Design the LSTM Neural Network Architecture"
      ],
      "metadata": {
        "id": "8BU4wXqnqQLH"
      }
    },
    {
      "cell_type": "code",
      "source": [
        "from keras.layers import LSTM\n",
        "from keras.layers import Dense\n",
        "from keras import layers\n",
        "from keras.models import Sequential\n",
        "import tensorflow as tf"
      ],
      "metadata": {
        "id": "0zj0PkNKqPlD"
      },
      "execution_count": 69,
      "outputs": []
    },
    {
      "cell_type": "code",
      "source": [
        "# Model Selection\n",
        "\n",
        "model = Sequential()\n",
        "model.add(LSTM(64, input_shape=(1, 28)))\n",
        "model.add(layers.Dropout(0.5))\n",
        "model.add(layers.Flatten())\n",
        "model.add(Dense(1, activation='sigmoid'))\n",
        "model.compile(loss='binary_crossentropy',\n",
        "              optimizer='adam', metrics=['accuracy'])"
      ],
      "metadata": {
        "id": "2yfKJecYrGYt"
      },
      "execution_count": 70,
      "outputs": []
    },
    {
      "cell_type": "markdown",
      "source": [
        "### Train the LSTM model"
      ],
      "metadata": {
        "id": "lhtMbxZdtatX"
      }
    },
    {
      "cell_type": "code",
      "source": [
        "# Train the LSTM model\n",
        "model.fit(X_train, y_train, epochs=10, batch_size=32)\n",
        "\n",
        "# Evaluate the model on the testing data\n",
        "loss, accuracy = model.evaluate(X_test, y_test)\n",
        "print(f'Test Loss: {loss:.4f}')\n",
        "print(f'Accuracy: {accuracy:.4f}')"
      ],
      "metadata": {
        "colab": {
          "base_uri": "https://localhost:8080/"
        },
        "id": "W2umxjqttW5f",
        "outputId": "45213d51-ff53-42f3-9739-8e810cffe069"
      },
      "execution_count": 77,
      "outputs": [
        {
          "output_type": "stream",
          "name": "stdout",
          "text": [
            "Epoch 1/10\n",
            "9/9 [==============================] - 0s 4ms/step - loss: 0.1589 - accuracy: 0.9735\n",
            "Epoch 2/10\n",
            "9/9 [==============================] - 0s 4ms/step - loss: 0.1640 - accuracy: 0.9621\n",
            "Epoch 3/10\n",
            "9/9 [==============================] - 0s 4ms/step - loss: 0.1509 - accuracy: 0.9773\n",
            "Epoch 4/10\n",
            "9/9 [==============================] - 0s 5ms/step - loss: 0.1513 - accuracy: 0.9848\n",
            "Epoch 5/10\n",
            "9/9 [==============================] - 0s 5ms/step - loss: 0.1475 - accuracy: 0.9773\n",
            "Epoch 6/10\n",
            "9/9 [==============================] - 0s 5ms/step - loss: 0.1484 - accuracy: 0.9735\n",
            "Epoch 7/10\n",
            "9/9 [==============================] - 0s 4ms/step - loss: 0.1414 - accuracy: 0.9773\n",
            "Epoch 8/10\n",
            "9/9 [==============================] - 0s 4ms/step - loss: 0.1411 - accuracy: 0.9735\n",
            "Epoch 9/10\n",
            "9/9 [==============================] - 0s 5ms/step - loss: 0.1463 - accuracy: 0.9735\n",
            "Epoch 10/10\n",
            "9/9 [==============================] - 0s 5ms/step - loss: 0.1376 - accuracy: 0.9811\n",
            "3/3 [==============================] - 0s 6ms/step - loss: 0.1473 - accuracy: 0.9697\n",
            "Test Loss: 0.1473\n",
            "Accuracy: 0.9697\n"
          ]
        }
      ]
    },
    {
      "cell_type": "markdown",
      "source": [
        "### Make Prediictions on New Day Data,Let's Consider 331st day data"
      ],
      "metadata": {
        "id": "AP-C7NaTuDNx"
      }
    },
    {
      "cell_type": "code",
      "source": [
        "# Make predictions on new data\n",
        "data = dataframe.to_numpy()\n",
        "new_data = data[328:329, :-1]\n",
        "print('New data for 331st day:\\n', new_data)\n",
        "\n",
        "# new_data = np.expand_dims(new_data, axis=-1)\n",
        "\n",
        "new_data = scaler.transform(new_data)  # Apply the same scaling to new data\n",
        "new_data = np.reshape(new_data, (new_data.shape[0], 1, new_data.shape[1]))\n",
        "predictions = model.predict(new_data)\n",
        "print(predictions)\n",
        "\n"
      ],
      "metadata": {
        "colab": {
          "base_uri": "https://localhost:8080/"
        },
        "id": "N6cBReGFuMm5",
        "outputId": "ba2b538d-2024-4bea-a5f9-009816ef334c"
      },
      "execution_count": 78,
      "outputs": [
        {
          "output_type": "stream",
          "name": "stdout",
          "text": [
            "New data for 331st day:\n",
            " [[ 3.28000000e+02  9.92004980e-01  9.78819799e-01  9.41663442e-01\n",
            "   9.63628464e-01  9.58142791e-01  9.44597941e-01  9.82623976e-01\n",
            "   9.87851468e-01  9.72234467e-01  9.58690977e-01  9.38672804e-01\n",
            "   9.50581282e-01  9.16471695e-01  9.27741843e-01  1.83783625e+00\n",
            "   6.04205209e-01  7.45207558e-01  1.03105719e+00  1.18814306e+00\n",
            "   1.20432080e+00  6.44538989e-01 -3.09618846e-01  1.42094060e+00\n",
            "   5.46295913e-01  9.46521715e-01  1.43779579e+00  1.12083081e+00]]\n",
            "1/1 [==============================] - 1s 597ms/step\n",
            "[[0.99668455]]\n"
          ]
        }
      ]
    },
    {
      "cell_type": "markdown",
      "source": [
        "### Binary Classification of New Day Data whether it is attacked with Gaussian Noise or not!\n",
        "If data is Without Attacked with Gauss Noise, O/P will be - 0\n",
        "If data is Attacked with Gauss Noise, O/P will be - 1"
      ],
      "metadata": {
        "id": "NB1q6UCiunJ_"
      }
    },
    {
      "cell_type": "code",
      "source": [
        "# Convert predictions to binary values\n",
        "\n",
        "binary_predictions = [1 if pred >= 0.5 else 0 for pred in predictions]\n",
        "print(\"Binary Predictions:\", binary_predictions)"
      ],
      "metadata": {
        "colab": {
          "base_uri": "https://localhost:8080/"
        },
        "id": "Nk7d9A-0umZ8",
        "outputId": "79e1ac51-037c-4d78-a455-e1b1d100fe59"
      },
      "execution_count": 79,
      "outputs": [
        {
          "output_type": "stream",
          "name": "stdout",
          "text": [
            "Binary Predictions: [1]\n"
          ]
        }
      ]
    }
  ]
}